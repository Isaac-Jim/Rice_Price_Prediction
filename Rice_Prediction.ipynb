{
 "cells": [
  {
   "cell_type": "code",
   "execution_count": 1,
   "id": "f0d7042a-ccb1-4d83-a572-c732208d4ece",
   "metadata": {},
   "outputs": [],
   "source": [
    "import pandas as pd\n",
    "import numpy as np\n",
    "import seaborn as sns\n",
    "import matplotlib.pyplot as plt\n",
    "from sklearn.model_selection import train_test_split,KFold\n",
    "from sklearn.linear_model import LinearRegression\n",
    "from sklearn.ensemble import RandomForestRegressor\n",
    "from sklearn.ensemble import StackingRegressor\n",
    "from sklearn.metrics import mean_absolute_error,r2_score,mean_squared_error"
   ]
  },
  {
   "cell_type": "code",
   "execution_count": 2,
   "id": "329ef428-2836-40c5-b949-94536bbbe97d",
   "metadata": {},
   "outputs": [],
   "source": [
    "df = pd.read_csv('jollof_wars_rice_sales_messy.csv')"
   ]
  },
  {
   "cell_type": "code",
   "execution_count": 3,
   "id": "49740fe9-a503-4f2d-80ec-4afbbaa0a59a",
   "metadata": {},
   "outputs": [
    {
     "data": {
      "text/plain": [
       "(554, 9)"
      ]
     },
     "execution_count": 3,
     "metadata": {},
     "output_type": "execute_result"
    }
   ],
   "source": [
    "df.shape"
   ]
  },
  {
   "cell_type": "code",
   "execution_count": 4,
   "id": "f0530bbd-b50d-46bf-9ed1-ab8832e5785b",
   "metadata": {},
   "outputs": [
    {
     "name": "stdout",
     "output_type": "stream",
     "text": [
      "<class 'pandas.core.frame.DataFrame'>\n",
      "RangeIndex: 554 entries, 0 to 553\n",
      "Data columns (total 9 columns):\n",
      " #   Column                 Non-Null Count  Dtype  \n",
      "---  ------                 --------------  -----  \n",
      " 0   Brand Name             554 non-null    object \n",
      " 1   Grain Type             554 non-null    object \n",
      " 2   Price per Bag (Naira)  511 non-null    float64\n",
      " 3   City                   554 non-null    object \n",
      " 4   Country                554 non-null    object \n",
      " 5   Customer Rating        554 non-null    int64  \n",
      " 6   Number of Reviews      554 non-null    int64  \n",
      " 7   Month Sold             554 non-null    object \n",
      " 8   Units Sold             554 non-null    int64  \n",
      "dtypes: float64(1), int64(3), object(5)\n",
      "memory usage: 39.1+ KB\n"
     ]
    }
   ],
   "source": [
    "df.info()"
   ]
  },
  {
   "cell_type": "code",
   "execution_count": 5,
   "id": "a013e607-7623-4f4a-bfef-433aa93f59c1",
   "metadata": {},
   "outputs": [
    {
     "data": {
      "text/html": [
       "<div>\n",
       "<style scoped>\n",
       "    .dataframe tbody tr th:only-of-type {\n",
       "        vertical-align: middle;\n",
       "    }\n",
       "\n",
       "    .dataframe tbody tr th {\n",
       "        vertical-align: top;\n",
       "    }\n",
       "\n",
       "    .dataframe thead th {\n",
       "        text-align: right;\n",
       "    }\n",
       "</style>\n",
       "<table border=\"1\" class=\"dataframe\">\n",
       "  <thead>\n",
       "    <tr style=\"text-align: right;\">\n",
       "      <th></th>\n",
       "      <th>Brand Name</th>\n",
       "      <th>Grain Type</th>\n",
       "      <th>Price per Bag (Naira)</th>\n",
       "      <th>City</th>\n",
       "      <th>Country</th>\n",
       "      <th>Customer Rating</th>\n",
       "      <th>Number of Reviews</th>\n",
       "      <th>Month Sold</th>\n",
       "      <th>Units Sold</th>\n",
       "    </tr>\n",
       "  </thead>\n",
       "  <tbody>\n",
       "    <tr>\n",
       "      <th>0</th>\n",
       "      <td>Tommy Tasty</td>\n",
       "      <td>basmati</td>\n",
       "      <td>12870.72</td>\n",
       "      <td>Kumasi</td>\n",
       "      <td>Ghana</td>\n",
       "      <td>2</td>\n",
       "      <td>137</td>\n",
       "      <td>December</td>\n",
       "      <td>969</td>\n",
       "    </tr>\n",
       "    <tr>\n",
       "      <th>1</th>\n",
       "      <td>Royal Stallion</td>\n",
       "      <td>long grain</td>\n",
       "      <td>9771.94</td>\n",
       "      <td>Accra</td>\n",
       "      <td>Ghana</td>\n",
       "      <td>2</td>\n",
       "      <td>298</td>\n",
       "      <td>September</td>\n",
       "      <td>230</td>\n",
       "    </tr>\n",
       "    <tr>\n",
       "      <th>2</th>\n",
       "      <td>Caprice</td>\n",
       "      <td>long grain</td>\n",
       "      <td>15698.12</td>\n",
       "      <td>Lagos</td>\n",
       "      <td>Nigeria</td>\n",
       "      <td>2</td>\n",
       "      <td>200</td>\n",
       "      <td>April</td>\n",
       "      <td>509</td>\n",
       "    </tr>\n",
       "    <tr>\n",
       "      <th>3</th>\n",
       "      <td>Caprice</td>\n",
       "      <td>basmati</td>\n",
       "      <td>12591.07</td>\n",
       "      <td>Kumasi</td>\n",
       "      <td>Ghana</td>\n",
       "      <td>3</td>\n",
       "      <td>257</td>\n",
       "      <td>April</td>\n",
       "      <td>364</td>\n",
       "    </tr>\n",
       "    <tr>\n",
       "      <th>4</th>\n",
       "      <td>Sunshine</td>\n",
       "      <td>basmati</td>\n",
       "      <td>15636.29</td>\n",
       "      <td>Kumasi</td>\n",
       "      <td>Ghana</td>\n",
       "      <td>2</td>\n",
       "      <td>219</td>\n",
       "      <td>August</td>\n",
       "      <td>351</td>\n",
       "    </tr>\n",
       "  </tbody>\n",
       "</table>\n",
       "</div>"
      ],
      "text/plain": [
       "       Brand Name  Grain Type  Price per Bag (Naira)    City  Country  \\\n",
       "0     Tommy Tasty     basmati               12870.72  Kumasi    Ghana   \n",
       "1  Royal Stallion  long grain                9771.94   Accra    Ghana   \n",
       "2         Caprice  long grain               15698.12   Lagos  Nigeria   \n",
       "3         Caprice     basmati               12591.07  Kumasi    Ghana   \n",
       "4        Sunshine     basmati               15636.29  Kumasi    Ghana   \n",
       "\n",
       "   Customer Rating  Number of Reviews Month Sold  Units Sold  \n",
       "0                2                137   December         969  \n",
       "1                2                298  September         230  \n",
       "2                2                200      April         509  \n",
       "3                3                257      April         364  \n",
       "4                2                219     August         351  "
      ]
     },
     "execution_count": 5,
     "metadata": {},
     "output_type": "execute_result"
    }
   ],
   "source": [
    "df.head()"
   ]
  },
  {
   "cell_type": "code",
   "execution_count": 6,
   "id": "eaf60d66-ee43-449f-95ce-c3eefc01059b",
   "metadata": {},
   "outputs": [
    {
     "data": {
      "text/plain": [
       "9"
      ]
     },
     "execution_count": 6,
     "metadata": {},
     "output_type": "execute_result"
    }
   ],
   "source": [
    "df.duplicated().sum()"
   ]
  },
  {
   "cell_type": "code",
   "execution_count": 7,
   "id": "e74c4bef-000a-490c-a274-a6b805fcb77a",
   "metadata": {},
   "outputs": [],
   "source": [
    "df.drop_duplicates(inplace= True)"
   ]
  },
  {
   "cell_type": "code",
   "execution_count": 8,
   "id": "d33a7eed-ed42-4cc4-85ef-50de85320cd3",
   "metadata": {},
   "outputs": [
    {
     "data": {
      "text/plain": [
       "0"
      ]
     },
     "execution_count": 8,
     "metadata": {},
     "output_type": "execute_result"
    }
   ],
   "source": [
    "df.duplicated().sum()"
   ]
  },
  {
   "cell_type": "code",
   "execution_count": 9,
   "id": "990c001a-929b-4104-be69-f03565575847",
   "metadata": {},
   "outputs": [],
   "source": [
    "categorical_columns =  df.select_dtypes(include='object')"
   ]
  },
  {
   "cell_type": "code",
   "execution_count": 10,
   "id": "3d63013b-dc02-4054-899f-c77319b86c8b",
   "metadata": {},
   "outputs": [
    {
     "name": "stdout",
     "output_type": "stream",
     "text": [
      "Brand Name\n",
      "\n",
      "['Tommy Tasty' 'Royal Stallion' 'Caprice' 'Sunshine' 'Golden Harvest'\n",
      " 'Caprce' \"King's Pride\" 'Uncle Sam' 'Mama Gold' 'Mamma Gold' 'Uncl Sam'\n",
      " 'Royal Stallon']\n",
      "Grain Type\n",
      "\n",
      "['basmati' 'long grain' 'local' 'Basmati' 'LONG GRAIN' 'LOCAL' 'BASMATI'\n",
      " 'Long grain' 'Local']\n",
      "City\n",
      "\n",
      "['Kumasi' 'Accra' 'Lagos' 'Abuja' 'Kumaci' 'lagos' 'Acccra']\n",
      "Country\n",
      "\n",
      "['Ghana' 'Nigeria']\n",
      "Month Sold\n",
      "\n",
      "['December' 'September' 'April' 'August' 'January' 'October' 'March'\n",
      " 'February' 'May' 'June' 'July' 'November']\n"
     ]
    }
   ],
   "source": [
    "for column in categorical_columns:\n",
    "    print(column + '\\n') \n",
    "    print(df[column].unique())"
   ]
  },
  {
   "cell_type": "code",
   "execution_count": 11,
   "id": "03c115a6-72c4-427b-9739-971c69061e98",
   "metadata": {},
   "outputs": [],
   "source": [
    "for column in categorical_columns:\n",
    "   \n",
    "    df[column]= df[column].astype('str')"
   ]
  },
  {
   "cell_type": "code",
   "execution_count": 12,
   "id": "5c8cd678-8e0c-49a4-a64a-1b103f0bf2e5",
   "metadata": {},
   "outputs": [],
   "source": [
    "import re\n",
    "\n",
    "for column in categorical_columns:\n",
    "    df[column] = (\n",
    "        df[column]\n",
    "        \n",
    "        .str.lower()\n",
    "        .str.replace(r'\\s+', ' ', regex=True)  # replace all whitespace with single space\n",
    "        .str.strip()\n",
    "    )\n"
   ]
  },
  {
   "cell_type": "code",
   "execution_count": null,
   "id": "d49814fd-3044-4195-ada5-684cd4d6a6dd",
   "metadata": {},
   "outputs": [],
   "source": []
  },
  {
   "cell_type": "code",
   "execution_count": 13,
   "id": "61095542-1317-4799-b73c-114a0985954f",
   "metadata": {},
   "outputs": [
    {
     "name": "stdout",
     "output_type": "stream",
     "text": [
      "Brand Name\n",
      "\n",
      "['tommy tasty' 'royal stallion' 'caprice' 'sunshine' 'golden harvest'\n",
      " 'caprce' \"king's pride\" 'uncle sam' 'mama gold' 'mamma gold' 'uncl sam'\n",
      " 'royal stallon']\n",
      "Grain Type\n",
      "\n",
      "['basmati' 'long grain' 'local']\n",
      "City\n",
      "\n",
      "['kumasi' 'accra' 'lagos' 'abuja' 'kumaci' 'acccra']\n",
      "Country\n",
      "\n",
      "['ghana' 'nigeria']\n",
      "Month Sold\n",
      "\n",
      "['december' 'september' 'april' 'august' 'january' 'october' 'march'\n",
      " 'february' 'may' 'june' 'july' 'november']\n"
     ]
    }
   ],
   "source": [
    "for column in categorical_columns:\n",
    "    print(column + '\\n') \n",
    "    print(df[column].unique())"
   ]
  },
  {
   "cell_type": "code",
   "execution_count": null,
   "id": "304fe031-1ab1-4f71-9c0e-b0fa79e58471",
   "metadata": {},
   "outputs": [],
   "source": []
  },
  {
   "cell_type": "code",
   "execution_count": null,
   "id": "7e76c3a4-e19a-4e11-8710-04ce66a258d9",
   "metadata": {},
   "outputs": [],
   "source": []
  },
  {
   "cell_type": "code",
   "execution_count": null,
   "id": "ed33633b-b7c4-4dc6-81e2-63ba079f281e",
   "metadata": {},
   "outputs": [],
   "source": []
  },
  {
   "cell_type": "code",
   "execution_count": 14,
   "id": "f4801116-90b6-41f5-8e88-d1d0442cbf8d",
   "metadata": {},
   "outputs": [
    {
     "name": "stderr",
     "output_type": "stream",
     "text": [
      "/var/folders/zz/mtjch0cs3f5fyjxlm9h1bbd00000gn/T/ipykernel_93240/2597497084.py:1: FutureWarning: A value is trying to be set on a copy of a DataFrame or Series through chained assignment using an inplace method.\n",
      "The behavior will change in pandas 3.0. This inplace method will never work because the intermediate object on which we are setting values always behaves as a copy.\n",
      "\n",
      "For example, when doing 'df[col].method(value, inplace=True)', try using 'df.method({col: value}, inplace=True)' or df[col] = df[col].method(value) instead, to perform the operation inplace on the original object.\n",
      "\n",
      "\n",
      "  df['City'].replace({\"kumaci\":\"kumasi\",\"acccra\":\"accra\"},inplace=True)\n",
      "/var/folders/zz/mtjch0cs3f5fyjxlm9h1bbd00000gn/T/ipykernel_93240/2597497084.py:2: FutureWarning: A value is trying to be set on a copy of a DataFrame or Series through chained assignment using an inplace method.\n",
      "The behavior will change in pandas 3.0. This inplace method will never work because the intermediate object on which we are setting values always behaves as a copy.\n",
      "\n",
      "For example, when doing 'df[col].method(value, inplace=True)', try using 'df.method({col: value}, inplace=True)' or df[col] = df[col].method(value) instead, to perform the operation inplace on the original object.\n",
      "\n",
      "\n",
      "  df['Brand Name'].replace({\"tommy tasty\":\"tommytasty\",\n"
     ]
    }
   ],
   "source": [
    "df['City'].replace({\"kumaci\":\"kumasi\",\"acccra\":\"accra\"},inplace=True)\n",
    "df['Brand Name'].replace({\"tommy tasty\":\"tommytasty\",\n",
    "                         \"royal stallion\":\"royalstallion\"\n",
    "                         \"\"},inplace=True)"
   ]
  },
  {
   "cell_type": "code",
   "execution_count": 15,
   "id": "f21ff017-29a8-47c1-a54a-3ee67bbf2b03",
   "metadata": {},
   "outputs": [
    {
     "name": "stdout",
     "output_type": "stream",
     "text": [
      "Brand Name\n",
      "\n",
      "['tommytasty' 'royalstallion' 'caprice' 'sunshine' 'golden harvest'\n",
      " 'caprce' \"king's pride\" 'uncle sam' 'mama gold' 'mamma gold' 'uncl sam'\n",
      " 'royal stallon']\n",
      "Grain Type\n",
      "\n",
      "['basmati' 'long grain' 'local']\n",
      "City\n",
      "\n",
      "['kumasi' 'accra' 'lagos' 'abuja']\n",
      "Country\n",
      "\n",
      "['ghana' 'nigeria']\n",
      "Month Sold\n",
      "\n",
      "['december' 'september' 'april' 'august' 'january' 'october' 'march'\n",
      " 'february' 'may' 'june' 'july' 'november']\n"
     ]
    }
   ],
   "source": [
    "for column in categorical_columns:\n",
    "    print(column + '\\n') \n",
    "    print(df[column].unique())"
   ]
  },
  {
   "cell_type": "code",
   "execution_count": null,
   "id": "d39ccb9f-f67d-4260-91a7-4203c76c6c4e",
   "metadata": {},
   "outputs": [],
   "source": []
  },
  {
   "cell_type": "code",
   "execution_count": null,
   "id": "a8777911-e78c-4d6c-b3d0-0b8908903d5d",
   "metadata": {},
   "outputs": [],
   "source": []
  },
  {
   "cell_type": "code",
   "execution_count": null,
   "id": "4f7a0561-9fd3-4ecc-b45b-6d9c888f0ee0",
   "metadata": {},
   "outputs": [],
   "source": []
  },
  {
   "cell_type": "code",
   "execution_count": null,
   "id": "04f633c6-b4c4-4843-9149-28b37909efa3",
   "metadata": {},
   "outputs": [],
   "source": []
  },
  {
   "cell_type": "code",
   "execution_count": null,
   "id": "d7facfbd-cae0-4059-a6c3-140712469668",
   "metadata": {},
   "outputs": [],
   "source": []
  },
  {
   "cell_type": "code",
   "execution_count": null,
   "id": "b2b2a751-fbe4-4688-9188-09af1ed13486",
   "metadata": {},
   "outputs": [],
   "source": []
  },
  {
   "cell_type": "code",
   "execution_count": null,
   "id": "bd985cc5-cf7e-4696-8d15-2b291c5c9701",
   "metadata": {},
   "outputs": [],
   "source": []
  },
  {
   "cell_type": "code",
   "execution_count": null,
   "id": "a8b38f75-000e-43f3-b4c2-79892e4c4f08",
   "metadata": {},
   "outputs": [],
   "source": []
  },
  {
   "cell_type": "code",
   "execution_count": null,
   "id": "2e8e231e-7386-4c2d-992e-2942d1fb8fe6",
   "metadata": {},
   "outputs": [],
   "source": []
  },
  {
   "cell_type": "code",
   "execution_count": null,
   "id": "498faef6-3435-44ee-bf2f-0280d0b09978",
   "metadata": {},
   "outputs": [],
   "source": []
  }
 ],
 "metadata": {
  "kernelspec": {
   "display_name": "Python (my_env)",
   "language": "python",
   "name": "my_env"
  },
  "language_info": {
   "codemirror_mode": {
    "name": "ipython",
    "version": 3
   },
   "file_extension": ".py",
   "mimetype": "text/x-python",
   "name": "python",
   "nbconvert_exporter": "python",
   "pygments_lexer": "ipython3",
   "version": "3.10.16"
  }
 },
 "nbformat": 4,
 "nbformat_minor": 5
}
